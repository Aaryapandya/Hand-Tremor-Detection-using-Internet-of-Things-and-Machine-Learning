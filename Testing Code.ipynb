{
 "cells": [
  {
   "cell_type": "code",
   "execution_count": 1,
   "id": "01d31f91",
   "metadata": {},
   "outputs": [],
   "source": [
    "import urllib.request\n",
    "import pandas\n",
    "import pickle "
   ]
  },
  {
   "cell_type": "code",
   "execution_count": null,
   "id": "9df77cd2",
   "metadata": {},
   "outputs": [],
   "source": [
    "'''Receiving data from Arduino Uno'''\n",
    "urllib.request.urlretrieve(\"http://192.168.43.118:8080/\", \"D:\\College\\Sem8\\CS-429 Major Project Stage-2\\test.txt\")"
   ]
  },
  {
   "cell_type": "code",
   "execution_count": null,
   "id": "1d94ee44",
   "metadata": {},
   "outputs": [],
   "source": [
    "'''Open text file'''\n",
    "f = open(\"test.txt\", \"r\")\n",
    "\n",
    "'''Open csv database'''\n",
    "filename = open(\"Data_test.csv\", \"w\")\n",
    "\n",
    "fields = ['aX','aY','aZ','gX','gY','gZ','mX','mY','mZ']\n",
    "\n",
    "'''Saving text data into csv database'''\n",
    "with filename as csvfile: \n",
    "    csvwriter = csv.writer(csvfile) \n",
    "    csvwriter.writerow(fields)\n",
    "    \n",
    "    for line in f:\n",
    "        l = line\n",
    "        vals = l.split(',')\n",
    "       \n",
    "        for i in range(len(vals)):\n",
    "            vals[i] = float(vals[i])\n",
    "            \n",
    "        csvwriter.writerow(vals)\n",
    "\n",
    "f.close()\n",
    "filename.close()\n",
    "\n",
    "file = open(\"Data_test.csv\", \"r\")\n",
    "with file as f:\n",
    "    reader = csv.reader(f)\n",
    "    next(reader)\n",
    "    data = []\n",
    "    for row in reader:\n",
    "        if len(row)>0:\n",
    "            data.append({\"val\": [float(cell) for cell in row]})\n",
    "\n",
    "val = [row[\"evidence\"] for row in data]"
   ]
  },
  {
   "cell_type": "code",
   "execution_count": null,
   "id": "6c13c1c0",
   "metadata": {},
   "outputs": [],
   "source": [
    "'''Loading pre-trained model'''\n",
    "with open('RandomForestClassifier()model.pickle', 'rb') as f:\n",
    "    model = pickle.load(f)"
   ]
  },
  {
   "cell_type": "code",
   "execution_count": null,
   "id": "7e99d3a3",
   "metadata": {},
   "outputs": [],
   "source": [
    "'''Testing only last 20 values'''\n",
    "test_data = [i for i in val[len(data)-20:]]\n",
    "\n",
    "'''Predicting Result'''\n",
    "result = model.predict(test_data)\n",
    "count = sum(result)\n",
    "\n",
    "if count >= 11: \n",
    "    print(\"!!! Hand is shaking. !!!\")\n",
    "else:\n",
    "    print(\"Hand is stable.\")\n"
   ]
  }
 ],
 "metadata": {
  "kernelspec": {
   "display_name": "Python 3 (ipykernel)",
   "language": "python",
   "name": "python3"
  },
  "language_info": {
   "codemirror_mode": {
    "name": "ipython",
    "version": 3
   },
   "file_extension": ".py",
   "mimetype": "text/x-python",
   "name": "python",
   "nbconvert_exporter": "python",
   "pygments_lexer": "ipython3",
   "version": "3.9.1"
  }
 },
 "nbformat": 4,
 "nbformat_minor": 5
}
